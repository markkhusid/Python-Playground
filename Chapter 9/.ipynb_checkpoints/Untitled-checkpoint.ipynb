{
 "cells": [
  {
   "cell_type": "code",
   "execution_count": 1,
   "metadata": {},
   "outputs": [],
   "source": [
    "import sys\n",
    "from OpenGL.GLUT import *\n",
    "from OpenGL.GL import *"
   ]
  },
  {
   "cell_type": "code",
   "execution_count": 2,
   "metadata": {},
   "outputs": [],
   "source": [
    "def display():\n",
    "    glClear (GL_COLOR_BUFFER_BIT | GL_DEPTH_BUFFER_BIT)\n",
    "    glColor3f (1.0, 1.0, 0.0)\n",
    "    glBegin(GL_QUADS)\n",
    "    glVertex3f (-0.5, -0.5, 0.0)\n",
    "    glVertex3f (0.5, -0.5, 0.0)\n",
    "    glVertex3f (0.5, 0.5, 0.0)\n",
    "    glVertex3f (-0.5, 0.5, 0.0)\n",
    "    glEnd()\n",
    "    glFlush();"
   ]
  },
  {
   "cell_type": "code",
   "execution_count": null,
   "metadata": {},
   "outputs": [],
   "source": [
    "glutInit(sys.argv)\n",
    "glutInitDisplayMode(GLUT_SINGLE | GLUT_RGB)\n",
    "glutInitWindowSize(400, 400)\n",
    "glutCreateWindow(\"oldgl\")\n",
    "glutDisplayFunc(display)\n",
    "glutMainLoop()"
   ]
  }
 ],
 "metadata": {
  "kernelspec": {
   "display_name": "Python 3",
   "language": "python",
   "name": "python3"
  },
  "language_info": {
   "codemirror_mode": {
    "name": "ipython",
    "version": 3
   },
   "file_extension": ".py",
   "mimetype": "text/x-python",
   "name": "python",
   "nbconvert_exporter": "python",
   "pygments_lexer": "ipython3",
   "version": "3.6.6"
  }
 },
 "nbformat": 4,
 "nbformat_minor": 2
}
